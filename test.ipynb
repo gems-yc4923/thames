{
 "cells": [
  {
   "cell_type": "markdown",
   "metadata": {},
   "source": [
    "## This is a sample Notebook to test the package I made"
   ]
  },
  {
   "cell_type": "code",
   "execution_count": null,
   "metadata": {},
   "outputs": [],
   "source": [
    "## This cell just imports sample data to give you an understanding. You can change the path if you want\n",
    "## To work with different data"
   ]
  },
  {
   "cell_type": "code",
   "execution_count": 1,
   "metadata": {},
   "outputs": [],
   "source": [
    "import pandas as pd\n",
    "import numpy as np\n",
    "\n",
    "data = pd.read_csv('raw_data/asteroid_training.csv')\n",
    "data.head()\n",
    "from sklearn.pipeline import Pipeline\n",
    "from sklearn.preprocessing import StandardScaler\n",
    "from sklearn.impute import SimpleImputer\n",
    "from sklearn.preprocessing import OneHotEncoder\n",
    "from sklearn.compose import ColumnTransformer\n",
    "\n",
    "num_pipe = Pipeline([\n",
    "    ('imputer', SimpleImputer(strategy='median')),\n",
    "    ('scaler', StandardScaler())\n",
    "])\n",
    "\n",
    "#Creating the categorical pipeline\n",
    "cat_pipe = Pipeline([\n",
    "    ('imputer', SimpleImputer(strategy='most_frequent')),\n",
    "    ('encoder', OneHotEncoder(handle_unknown='ignore', sparse_output=False))\n",
    "])\n",
    "\n",
    "#Creating the column transformer\n",
    "complete_pipe = ColumnTransformer([\n",
    "    ('num', num_pipe, data.drop(['hazardous'], axis=1).select_dtypes(include=np.number).columns),\n",
    "    ('cat', cat_pipe, data.drop(['hazardous'], axis=1).select_dtypes(include='object').columns)\n",
    "])"
   ]
  },
  {
   "cell_type": "code",
   "execution_count": null,
   "metadata": {},
   "outputs": [],
   "source": [
    "# Create an instance of the class\n",
    "# Parameters are explained. Enter the whole data, the target cell, the pipeline, the task is either\n",
    "# 'class' for classification or 'reg' for regression, and i is the number of models you want to use\n",
    "# Depending on the parameters it might take more or less time to run\n",
    "from yctmodel import ModelSelector\n",
    "model_selector = ModelSelector(data,target='hazardous',complete_pipe=complete_pipe,task='class',i=2)\n",
    "# Now just run the fit \n",
    "model_selector.fit()\n",
    "# If you want to get the pipeline run this function\n",
    "model_selector.get_pipeline"
   ]
  }
 ],
 "metadata": {
  "kernelspec": {
   "display_name": "dsml4p",
   "language": "python",
   "name": "python3"
  },
  "language_info": {
   "codemirror_mode": {
    "name": "ipython",
    "version": 3
   },
   "file_extension": ".py",
   "mimetype": "text/x-python",
   "name": "python",
   "nbconvert_exporter": "python",
   "pygments_lexer": "ipython3",
   "version": "3.11.5"
  }
 },
 "nbformat": 4,
 "nbformat_minor": 2
}
